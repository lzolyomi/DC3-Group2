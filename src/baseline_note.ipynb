{
 "cells": [
  {
   "cell_type": "code",
   "execution_count": 2,
   "metadata": {},
   "outputs": [],
   "source": [
    "import pandas as pd \n",
    "from file_struct import locate_data_, correct_slash\n",
    "from data_prep import winter_weather\n",
    "from waterway import list_stuwvak\n",
    "\n",
    "d = locate_data_()\n",
    "s = correct_slash()"
   ]
  },
  {
   "cell_type": "code",
   "execution_count": 3,
   "metadata": {},
   "outputs": [
    {
     "data": {
      "text/html": [
       "<div>\n",
       "<style scoped>\n",
       "    .dataframe tbody tr th:only-of-type {\n",
       "        vertical-align: middle;\n",
       "    }\n",
       "\n",
       "    .dataframe tbody tr th {\n",
       "        vertical-align: top;\n",
       "    }\n",
       "\n",
       "    .dataframe thead th {\n",
       "        text-align: right;\n",
       "    }\n",
       "</style>\n",
       "<table border=\"1\" class=\"dataframe\">\n",
       "  <thead>\n",
       "    <tr style=\"text-align: right;\">\n",
       "      <th></th>\n",
       "      <th>Unnamed: 0</th>\n",
       "      <th>Day</th>\n",
       "      <th>Min temp</th>\n",
       "      <th>Max temp</th>\n",
       "      <th>Avg temp</th>\n",
       "      <th>Wind speed</th>\n",
       "      <th>Precipitation</th>\n",
       "      <th>Date</th>\n",
       "    </tr>\n",
       "  </thead>\n",
       "  <tbody>\n",
       "    <tr>\n",
       "      <th>1298</th>\n",
       "      <td>1303</td>\n",
       "      <td>27</td>\n",
       "      <td>15.8</td>\n",
       "      <td>22.3</td>\n",
       "      <td>18.7</td>\n",
       "      <td>6.1</td>\n",
       "      <td>2.6</td>\n",
       "      <td>2021-07-27</td>\n",
       "    </tr>\n",
       "    <tr>\n",
       "      <th>1299</th>\n",
       "      <td>1304</td>\n",
       "      <td>28</td>\n",
       "      <td>14.4</td>\n",
       "      <td>22.1</td>\n",
       "      <td>17.9</td>\n",
       "      <td>10.6</td>\n",
       "      <td>3.2</td>\n",
       "      <td>2021-07-28</td>\n",
       "    </tr>\n",
       "    <tr>\n",
       "      <th>1300</th>\n",
       "      <td>1305</td>\n",
       "      <td>29</td>\n",
       "      <td>12.9</td>\n",
       "      <td>21.6</td>\n",
       "      <td>17.3</td>\n",
       "      <td>12.7</td>\n",
       "      <td>0.8</td>\n",
       "      <td>2021-07-29</td>\n",
       "    </tr>\n",
       "    <tr>\n",
       "      <th>1301</th>\n",
       "      <td>1306</td>\n",
       "      <td>30</td>\n",
       "      <td>10.3</td>\n",
       "      <td>23.9</td>\n",
       "      <td>17.1</td>\n",
       "      <td>8.2</td>\n",
       "      <td>0.8</td>\n",
       "      <td>2021-07-30</td>\n",
       "    </tr>\n",
       "    <tr>\n",
       "      <th>1302</th>\n",
       "      <td>1307</td>\n",
       "      <td>31</td>\n",
       "      <td>13.4</td>\n",
       "      <td>21.1</td>\n",
       "      <td>17.1</td>\n",
       "      <td>12.9</td>\n",
       "      <td>3.0</td>\n",
       "      <td>2021-07-31</td>\n",
       "    </tr>\n",
       "  </tbody>\n",
       "</table>\n",
       "</div>"
      ],
      "text/plain": [
       "      Unnamed: 0  Day  Min temp  Max temp  Avg temp  Wind speed  \\\n",
       "1298        1303   27      15.8      22.3      18.7         6.1   \n",
       "1299        1304   28      14.4      22.1      17.9        10.6   \n",
       "1300        1305   29      12.9      21.6      17.3        12.7   \n",
       "1301        1306   30      10.3      23.9      17.1         8.2   \n",
       "1302        1307   31      13.4      21.1      17.1        12.9   \n",
       "\n",
       "      Precipitation        Date  \n",
       "1298            2.6  2021-07-27  \n",
       "1299            3.2  2021-07-28  \n",
       "1300            0.8  2021-07-29  \n",
       "1301            0.8  2021-07-30  \n",
       "1302            3.0  2021-07-31  "
      ]
     },
     "execution_count": 3,
     "metadata": {},
     "output_type": "execute_result"
    }
   ],
   "source": [
    "weather_data = pd.read_csv(locate_data_() + correct_slash() + \"full_weather.csv\")\n",
    "weather_data.tail()"
   ]
  },
  {
   "cell_type": "code",
   "execution_count": 4,
   "metadata": {},
   "outputs": [],
   "source": [
    "weather = winter_weather(locate_data_() + correct_slash())\n",
    "weather[\"TIME\"] = pd.to_datetime(weather[\"Date\"])\n",
    "weather.drop(columns=[\"month\", \"Date\"], inplace = True)"
   ]
  },
  {
   "cell_type": "code",
   "execution_count": 5,
   "metadata": {},
   "outputs": [],
   "source": [
    "lst_compartments = list_stuwvak('Leijgraaf')\n",
    "df = pd.read_csv(locate_data_() + correct_slash() + \"feature_tables\" + correct_slash() + lst_compartments[0] + \"_feature_table.csv\")\n",
    "df[\"TIME\"] = pd.to_datetime(pd.to_datetime(df[\"TIME\"]).dt.date)\n",
    "ready_data = pd.merge(weather, df, on=\"TIME\")\n",
    "ready_data.drop(columns=[\"Unnamed: 0\", \"Day\", \"STUWVAK\"], inplace=True)"
   ]
  },
  {
   "cell_type": "code",
   "execution_count": 6,
   "metadata": {},
   "outputs": [
    {
     "data": {
      "text/html": [
       "<div>\n",
       "<style scoped>\n",
       "    .dataframe tbody tr th:only-of-type {\n",
       "        vertical-align: middle;\n",
       "    }\n",
       "\n",
       "    .dataframe tbody tr th {\n",
       "        vertical-align: top;\n",
       "    }\n",
       "\n",
       "    .dataframe thead th {\n",
       "        text-align: right;\n",
       "    }\n",
       "</style>\n",
       "<table border=\"1\" class=\"dataframe\">\n",
       "  <thead>\n",
       "    <tr style=\"text-align: right;\">\n",
       "      <th></th>\n",
       "      <th>Min temp</th>\n",
       "      <th>Max temp</th>\n",
       "      <th>Avg temp</th>\n",
       "      <th>Wind speed</th>\n",
       "      <th>Precipitation</th>\n",
       "      <th>TIME</th>\n",
       "      <th>VERSCHIL</th>\n",
       "      <th>Q</th>\n",
       "    </tr>\n",
       "  </thead>\n",
       "  <tbody>\n",
       "    <tr>\n",
       "      <th>0</th>\n",
       "      <td>4.9</td>\n",
       "      <td>9.0</td>\n",
       "      <td>6.8</td>\n",
       "      <td>15.4</td>\n",
       "      <td>11.8</td>\n",
       "      <td>2018-01-01</td>\n",
       "      <td>0.0</td>\n",
       "      <td>0.646808</td>\n",
       "    </tr>\n",
       "    <tr>\n",
       "      <th>1</th>\n",
       "      <td>4.6</td>\n",
       "      <td>8.2</td>\n",
       "      <td>6.2</td>\n",
       "      <td>12.2</td>\n",
       "      <td>4.4</td>\n",
       "      <td>2018-01-02</td>\n",
       "      <td>0.0</td>\n",
       "      <td>0.725779</td>\n",
       "    </tr>\n",
       "    <tr>\n",
       "      <th>2</th>\n",
       "      <td>6.4</td>\n",
       "      <td>11.2</td>\n",
       "      <td>8.9</td>\n",
       "      <td>26.7</td>\n",
       "      <td>16.6</td>\n",
       "      <td>2018-01-03</td>\n",
       "      <td>0.0</td>\n",
       "      <td>1.014376</td>\n",
       "    </tr>\n",
       "  </tbody>\n",
       "</table>\n",
       "</div>"
      ],
      "text/plain": [
       "   Min temp  Max temp  Avg temp  Wind speed  Precipitation       TIME  \\\n",
       "0       4.9       9.0       6.8        15.4           11.8 2018-01-01   \n",
       "1       4.6       8.2       6.2        12.2            4.4 2018-01-02   \n",
       "2       6.4      11.2       8.9        26.7           16.6 2018-01-03   \n",
       "\n",
       "   VERSCHIL         Q  \n",
       "0       0.0  0.646808  \n",
       "1       0.0  0.725779  \n",
       "2       0.0  1.014376  "
      ]
     },
     "execution_count": 6,
     "metadata": {},
     "output_type": "execute_result"
    }
   ],
   "source": [
    "from baseline import get_winter_data\n",
    "\n",
    "test = get_winter_data(lst_compartments[1])\n",
    "test.head(3)"
   ]
  },
  {
   "cell_type": "markdown",
   "metadata": {},
   "source": [
    "## Exploring the weir compartment's statistics\n",
    "Looking at compartments in Leijgraaf to identify good/bad data quality compartments"
   ]
  },
  {
   "cell_type": "code",
   "execution_count": 7,
   "metadata": {},
   "outputs": [],
   "source": [
    "from file_struct import locate_data_, correct_slash\n",
    "data_path = locate_data_()\n",
    "s = correct_slash()\n",
    "compartments = list_stuwvak(\"Leijgraaf\")\n"
   ]
  },
  {
   "cell_type": "code",
   "execution_count": 8,
   "metadata": {},
   "outputs": [
    {
     "name": "stdout",
     "output_type": "stream",
     "text": [
      "1\n",
      "2\n",
      "3\n"
     ]
    }
   ],
   "source": [
    "\n",
    "comp = compartments[0]\n",
    "df = pd.read_csv(data_path + s + \"feature_tables\" + s + comp + \"_feature_table.csv\")\n",
    "verschil_stats = df[\"VERSCHIL\"].describe()\n",
    "q_stats = df[\"Q\"].describe()\n",
    "df[df[\"VERSCHIL\"] <= 0].shape[0]\n",
    "verschil_stats[1]\n",
    "for i in range(1,4):\n",
    "    print(i)"
   ]
  },
  {
   "cell_type": "code",
   "execution_count": 9,
   "metadata": {},
   "outputs": [
    {
     "data": {
      "text/html": [
       "<div>\n",
       "<style scoped>\n",
       "    .dataframe tbody tr th:only-of-type {\n",
       "        vertical-align: middle;\n",
       "    }\n",
       "\n",
       "    .dataframe tbody tr th {\n",
       "        vertical-align: top;\n",
       "    }\n",
       "\n",
       "    .dataframe thead th {\n",
       "        text-align: right;\n",
       "    }\n",
       "</style>\n",
       "<table border=\"1\" class=\"dataframe\">\n",
       "  <thead>\n",
       "    <tr style=\"text-align: right;\">\n",
       "      <th></th>\n",
       "      <th>Stuwvak</th>\n",
       "      <th>v_mean</th>\n",
       "      <th>v_std</th>\n",
       "      <th>v_negatives</th>\n",
       "      <th>q_mean</th>\n",
       "      <th>q_std</th>\n",
       "      <th>q_negatives</th>\n",
       "    </tr>\n",
       "  </thead>\n",
       "  <tbody>\n",
       "    <tr>\n",
       "      <th>0</th>\n",
       "      <td>211VEL_211N</td>\n",
       "      <td>0.048025</td>\n",
       "      <td>0.123444</td>\n",
       "      <td>244</td>\n",
       "      <td>0.555998</td>\n",
       "      <td>0.413567</td>\n",
       "      <td>39</td>\n",
       "    </tr>\n",
       "    <tr>\n",
       "      <th>1</th>\n",
       "      <td>211N_211M</td>\n",
       "      <td>0.175096</td>\n",
       "      <td>0.146955</td>\n",
       "      <td>187</td>\n",
       "      <td>0.636628</td>\n",
       "      <td>0.221624</td>\n",
       "      <td>0</td>\n",
       "    </tr>\n",
       "    <tr>\n",
       "      <th>2</th>\n",
       "      <td>211M_211L</td>\n",
       "      <td>0.204599</td>\n",
       "      <td>0.129364</td>\n",
       "      <td>74</td>\n",
       "      <td>2.556836</td>\n",
       "      <td>2.565410</td>\n",
       "      <td>0</td>\n",
       "    </tr>\n",
       "    <tr>\n",
       "      <th>3</th>\n",
       "      <td>211L_211K</td>\n",
       "      <td>0.200540</td>\n",
       "      <td>0.133870</td>\n",
       "      <td>17</td>\n",
       "      <td>0.553873</td>\n",
       "      <td>0.610101</td>\n",
       "      <td>408</td>\n",
       "    </tr>\n",
       "    <tr>\n",
       "      <th>4</th>\n",
       "      <td>211K_211J</td>\n",
       "      <td>0.115033</td>\n",
       "      <td>0.230162</td>\n",
       "      <td>215</td>\n",
       "      <td>0.893540</td>\n",
       "      <td>0.368289</td>\n",
       "      <td>0</td>\n",
       "    </tr>\n",
       "    <tr>\n",
       "      <th>5</th>\n",
       "      <td>211J_211I</td>\n",
       "      <td>0.142565</td>\n",
       "      <td>0.089524</td>\n",
       "      <td>22</td>\n",
       "      <td>0.496124</td>\n",
       "      <td>0.372252</td>\n",
       "      <td>5</td>\n",
       "    </tr>\n",
       "    <tr>\n",
       "      <th>6</th>\n",
       "      <td>211I_211H</td>\n",
       "      <td>0.088524</td>\n",
       "      <td>0.039632</td>\n",
       "      <td>0</td>\n",
       "      <td>0.992063</td>\n",
       "      <td>0.350311</td>\n",
       "      <td>0</td>\n",
       "    </tr>\n",
       "    <tr>\n",
       "      <th>7</th>\n",
       "      <td>211H_211G</td>\n",
       "      <td>-0.004645</td>\n",
       "      <td>0.021240</td>\n",
       "      <td>814</td>\n",
       "      <td>0.903305</td>\n",
       "      <td>0.466546</td>\n",
       "      <td>3</td>\n",
       "    </tr>\n",
       "    <tr>\n",
       "      <th>8</th>\n",
       "      <td>211G_211F</td>\n",
       "      <td>0.064830</td>\n",
       "      <td>0.041800</td>\n",
       "      <td>0</td>\n",
       "      <td>0.508849</td>\n",
       "      <td>0.403207</td>\n",
       "      <td>19</td>\n",
       "    </tr>\n",
       "    <tr>\n",
       "      <th>9</th>\n",
       "      <td>211F_211E</td>\n",
       "      <td>0.014924</td>\n",
       "      <td>0.039028</td>\n",
       "      <td>647</td>\n",
       "      <td>0.531705</td>\n",
       "      <td>0.643727</td>\n",
       "      <td>67</td>\n",
       "    </tr>\n",
       "    <tr>\n",
       "      <th>10</th>\n",
       "      <td>211E_211D</td>\n",
       "      <td>-0.003820</td>\n",
       "      <td>0.014187</td>\n",
       "      <td>816</td>\n",
       "      <td>0.606539</td>\n",
       "      <td>0.487375</td>\n",
       "      <td>7</td>\n",
       "    </tr>\n",
       "    <tr>\n",
       "      <th>11</th>\n",
       "      <td>211D_211C</td>\n",
       "      <td>0.010228</td>\n",
       "      <td>0.079689</td>\n",
       "      <td>700</td>\n",
       "      <td>0.584362</td>\n",
       "      <td>0.535223</td>\n",
       "      <td>35</td>\n",
       "    </tr>\n",
       "    <tr>\n",
       "      <th>12</th>\n",
       "      <td>211C_211B</td>\n",
       "      <td>0.018941</td>\n",
       "      <td>0.122044</td>\n",
       "      <td>147</td>\n",
       "      <td>0.530982</td>\n",
       "      <td>0.773725</td>\n",
       "      <td>141</td>\n",
       "    </tr>\n",
       "    <tr>\n",
       "      <th>13</th>\n",
       "      <td>211B_211A</td>\n",
       "      <td>-0.028700</td>\n",
       "      <td>0.033247</td>\n",
       "      <td>1271</td>\n",
       "      <td>0.889587</td>\n",
       "      <td>1.704037</td>\n",
       "      <td>102</td>\n",
       "    </tr>\n",
       "  </tbody>\n",
       "</table>\n",
       "</div>"
      ],
      "text/plain": [
       "        Stuwvak    v_mean     v_std  v_negatives    q_mean     q_std  \\\n",
       "0   211VEL_211N  0.048025  0.123444          244  0.555998  0.413567   \n",
       "1     211N_211M  0.175096  0.146955          187  0.636628  0.221624   \n",
       "2     211M_211L  0.204599  0.129364           74  2.556836  2.565410   \n",
       "3     211L_211K  0.200540  0.133870           17  0.553873  0.610101   \n",
       "4     211K_211J  0.115033  0.230162          215  0.893540  0.368289   \n",
       "5     211J_211I  0.142565  0.089524           22  0.496124  0.372252   \n",
       "6     211I_211H  0.088524  0.039632            0  0.992063  0.350311   \n",
       "7     211H_211G -0.004645  0.021240          814  0.903305  0.466546   \n",
       "8     211G_211F  0.064830  0.041800            0  0.508849  0.403207   \n",
       "9     211F_211E  0.014924  0.039028          647  0.531705  0.643727   \n",
       "10    211E_211D -0.003820  0.014187          816  0.606539  0.487375   \n",
       "11    211D_211C  0.010228  0.079689          700  0.584362  0.535223   \n",
       "12    211C_211B  0.018941  0.122044          147  0.530982  0.773725   \n",
       "13    211B_211A -0.028700  0.033247         1271  0.889587  1.704037   \n",
       "\n",
       "    q_negatives  \n",
       "0            39  \n",
       "1             0  \n",
       "2             0  \n",
       "3           408  \n",
       "4             0  \n",
       "5             5  \n",
       "6             0  \n",
       "7             3  \n",
       "8            19  \n",
       "9            67  \n",
       "10            7  \n",
       "11           35  \n",
       "12          141  \n",
       "13          102  "
      ]
     },
     "execution_count": 9,
     "metadata": {},
     "output_type": "execute_result"
    }
   ],
   "source": [
    "dct_stats = {\"Stuwvak\":compartments, \"v_mean\":[], \"v_std\":[], \"v_negatives\":[], \"q_mean\":[], \"q_std\":[], \"q_negatives\":[]}\n",
    "\n",
    "for comp in compartments:\n",
    "    df = pd.read_csv(data_path + s + \"feature_tables\" + s + comp + \"_feature_table.csv\")\n",
    "    verschil_stats = df[\"VERSCHIL\"].describe()\n",
    "    q_stats = df[\"Q\"].describe()\n",
    "    dct_stats[\"v_mean\"].append(verschil_stats[\"mean\"])\n",
    "    dct_stats[\"v_std\"].append(verschil_stats[\"std\"])\n",
    "    dct_stats[\"v_negatives\"].append(df[df[\"VERSCHIL\"] <= 0].shape[0])\n",
    "    dct_stats[\"q_mean\"].append(q_stats[\"mean\"])\n",
    "    dct_stats[\"q_std\"].append(q_stats[\"std\"])\n",
    "    dct_stats[\"q_negatives\"].append(df[df[\"Q\"] <= 0].shape[0])\n",
    "\n",
    "\n",
    "df_summary = pd.DataFrame(dct_stats)\n",
    "df_summary"
   ]
  },
  {
   "cell_type": "code",
   "execution_count": 10,
   "metadata": {},
   "outputs": [
    {
     "data": {
      "text/html": [
       "<div>\n",
       "<style scoped>\n",
       "    .dataframe tbody tr th:only-of-type {\n",
       "        vertical-align: middle;\n",
       "    }\n",
       "\n",
       "    .dataframe tbody tr th {\n",
       "        vertical-align: top;\n",
       "    }\n",
       "\n",
       "    .dataframe thead th {\n",
       "        text-align: right;\n",
       "    }\n",
       "</style>\n",
       "<table border=\"1\" class=\"dataframe\">\n",
       "  <thead>\n",
       "    <tr style=\"text-align: right;\">\n",
       "      <th></th>\n",
       "      <th>Compartment</th>\n",
       "      <th>value</th>\n",
       "      <th>type</th>\n",
       "    </tr>\n",
       "  </thead>\n",
       "  <tbody>\n",
       "    <tr>\n",
       "      <th>0</th>\n",
       "      <td>211VEL_211N</td>\n",
       "      <td>0.048025</td>\n",
       "      <td>mean</td>\n",
       "    </tr>\n",
       "    <tr>\n",
       "      <th>1</th>\n",
       "      <td>211VEL_211N</td>\n",
       "      <td>0.123444</td>\n",
       "      <td>std</td>\n",
       "    </tr>\n",
       "    <tr>\n",
       "      <th>2</th>\n",
       "      <td>211VEL_211N</td>\n",
       "      <td>-0.523824</td>\n",
       "      <td>negative_values</td>\n",
       "    </tr>\n",
       "  </tbody>\n",
       "</table>\n",
       "</div>"
      ],
      "text/plain": [
       "   Compartment     value             type\n",
       "0  211VEL_211N  0.048025             mean\n",
       "1  211VEL_211N  0.123444              std\n",
       "2  211VEL_211N -0.523824  negative_values"
      ]
     },
     "execution_count": 10,
     "metadata": {},
     "output_type": "execute_result"
    }
   ],
   "source": [
    "dct_stats = {\"Compartment\":[i for i in compartments for _ in range(3)], \"value\":[], \"type\":[]}\n",
    "dct_i = {1:\"mean\", 2:\"std\", 3:\"negative_values\"}\n",
    "\n",
    "for comp in compartments:\n",
    "    df = pd.read_csv(data_path + s + \"feature_tables\" + s + comp + \"_feature_table.csv\")\n",
    "    verschil_stats = df[\"VERSCHIL\"].describe()\n",
    "    for i in range(1,4):\n",
    "        dct_stats[\"value\"].append(verschil_stats[i])\n",
    "        dct_stats[\"type\"].append(dct_i[i])\n",
    "\n",
    "pd.DataFrame(dct_stats).head(3)"
   ]
  },
  {
   "cell_type": "markdown",
   "metadata": {},
   "source": [
    "# Find a way to visualize correctness of winter baseline"
   ]
  },
  {
   "cell_type": "code",
   "execution_count": 11,
   "metadata": {},
   "outputs": [
    {
     "data": {
      "text/html": [
       "<div>\n",
       "<style scoped>\n",
       "    .dataframe tbody tr th:only-of-type {\n",
       "        vertical-align: middle;\n",
       "    }\n",
       "\n",
       "    .dataframe tbody tr th {\n",
       "        vertical-align: top;\n",
       "    }\n",
       "\n",
       "    .dataframe thead th {\n",
       "        text-align: right;\n",
       "    }\n",
       "</style>\n",
       "<table border=\"1\" class=\"dataframe\">\n",
       "  <thead>\n",
       "    <tr style=\"text-align: right;\">\n",
       "      <th></th>\n",
       "      <th>correlation</th>\n",
       "      <th>year</th>\n",
       "      <th>ratio_innacurate</th>\n",
       "    </tr>\n",
       "  </thead>\n",
       "  <tbody>\n",
       "    <tr>\n",
       "      <th>0</th>\n",
       "      <td>0.852362</td>\n",
       "      <td>2018</td>\n",
       "      <td>0.933333</td>\n",
       "    </tr>\n",
       "    <tr>\n",
       "      <th>1</th>\n",
       "      <td>-0.038034</td>\n",
       "      <td>2019</td>\n",
       "      <td>1.000000</td>\n",
       "    </tr>\n",
       "    <tr>\n",
       "      <th>2</th>\n",
       "      <td>0.870928</td>\n",
       "      <td>2020</td>\n",
       "      <td>0.986842</td>\n",
       "    </tr>\n",
       "    <tr>\n",
       "      <th>3</th>\n",
       "      <td>0.911039</td>\n",
       "      <td>2021</td>\n",
       "      <td>1.000000</td>\n",
       "    </tr>\n",
       "  </tbody>\n",
       "</table>\n",
       "</div>"
      ],
      "text/plain": [
       "   correlation  year  ratio_innacurate\n",
       "0     0.852362  2018          0.933333\n",
       "1    -0.038034  2019          1.000000\n",
       "2     0.870928  2020          0.986842\n",
       "3     0.911039  2021          1.000000"
      ]
     },
     "execution_count": 11,
     "metadata": {},
     "output_type": "execute_result"
    }
   ],
   "source": [
    "from data_prep import prep_single_df\n",
    "dct = {\"correlation\":[], \"year\":[], \"ratio_innacurate\":[]}\n",
    "comp = \"211C_211B\"\n",
    "df = prep_single_df(comp)\n",
    "winter_months = [10, 11, 12, 1, 2]\n",
    "df_winter = df[df[\"MONTH\"].isin(winter_months)]\n",
    "\n",
    "for yr in df_winter[\"YEAR\"].unique():\n",
    "    df_yearly = df_winter[df_winter[\"YEAR\"] == yr]\n",
    "    corr = df_yearly.Q.corr(df_yearly.VERSCHIL)\n",
    "    nr_datapoints = df_yearly.shape[0]\n",
    "    inaccuracy = df_yearly[df_yearly[\"VERSCHIL\"] < 0.05].shape[0]/nr_datapoints\n",
    "    dct[\"correlation\"].append(corr)\n",
    "    dct[\"year\"].append(yr)\n",
    "    dct[\"ratio_innacurate\"].append(inaccuracy)\n",
    "\n",
    "results = pd.DataFrame(dct)\n",
    "results"
   ]
  },
  {
   "cell_type": "code",
   "execution_count": 12,
   "metadata": {},
   "outputs": [
    {
     "data": {
      "application/vnd.plotly.v1+json": {
       "config": {
        "plotlyServerURL": "https://plot.ly"
       },
       "data": [
        {
         "name": "corr",
         "text": "correlation",
         "textangle": 40,
         "textposition": "auto",
         "type": "bar",
         "x": [
          2018,
          2019,
          2020,
          2021
         ],
         "y": [
          0.8523622345117705,
          -0.038034209051318706,
          0.870927896408131,
          0.9110392516292076
         ]
        },
        {
         "name": "inaccuracy",
         "text": "% inaccurate",
         "textangle": 40,
         "textposition": "auto",
         "type": "bar",
         "x": [
          2018,
          2019,
          2020,
          2021
         ],
         "y": [
          0.9333333333333333,
          1,
          0.9868421052631579,
          1
         ]
        }
       ],
       "layout": {
        "barmode": "group",
        "template": {
         "data": {
          "bar": [
           {
            "error_x": {
             "color": "#2a3f5f"
            },
            "error_y": {
             "color": "#2a3f5f"
            },
            "marker": {
             "line": {
              "color": "#E5ECF6",
              "width": 0.5
             },
             "pattern": {
              "fillmode": "overlay",
              "size": 10,
              "solidity": 0.2
             }
            },
            "type": "bar"
           }
          ],
          "barpolar": [
           {
            "marker": {
             "line": {
              "color": "#E5ECF6",
              "width": 0.5
             },
             "pattern": {
              "fillmode": "overlay",
              "size": 10,
              "solidity": 0.2
             }
            },
            "type": "barpolar"
           }
          ],
          "carpet": [
           {
            "aaxis": {
             "endlinecolor": "#2a3f5f",
             "gridcolor": "white",
             "linecolor": "white",
             "minorgridcolor": "white",
             "startlinecolor": "#2a3f5f"
            },
            "baxis": {
             "endlinecolor": "#2a3f5f",
             "gridcolor": "white",
             "linecolor": "white",
             "minorgridcolor": "white",
             "startlinecolor": "#2a3f5f"
            },
            "type": "carpet"
           }
          ],
          "choropleth": [
           {
            "colorbar": {
             "outlinewidth": 0,
             "ticks": ""
            },
            "type": "choropleth"
           }
          ],
          "contour": [
           {
            "colorbar": {
             "outlinewidth": 0,
             "ticks": ""
            },
            "colorscale": [
             [
              0,
              "#0d0887"
             ],
             [
              0.1111111111111111,
              "#46039f"
             ],
             [
              0.2222222222222222,
              "#7201a8"
             ],
             [
              0.3333333333333333,
              "#9c179e"
             ],
             [
              0.4444444444444444,
              "#bd3786"
             ],
             [
              0.5555555555555556,
              "#d8576b"
             ],
             [
              0.6666666666666666,
              "#ed7953"
             ],
             [
              0.7777777777777778,
              "#fb9f3a"
             ],
             [
              0.8888888888888888,
              "#fdca26"
             ],
             [
              1,
              "#f0f921"
             ]
            ],
            "type": "contour"
           }
          ],
          "contourcarpet": [
           {
            "colorbar": {
             "outlinewidth": 0,
             "ticks": ""
            },
            "type": "contourcarpet"
           }
          ],
          "heatmap": [
           {
            "colorbar": {
             "outlinewidth": 0,
             "ticks": ""
            },
            "colorscale": [
             [
              0,
              "#0d0887"
             ],
             [
              0.1111111111111111,
              "#46039f"
             ],
             [
              0.2222222222222222,
              "#7201a8"
             ],
             [
              0.3333333333333333,
              "#9c179e"
             ],
             [
              0.4444444444444444,
              "#bd3786"
             ],
             [
              0.5555555555555556,
              "#d8576b"
             ],
             [
              0.6666666666666666,
              "#ed7953"
             ],
             [
              0.7777777777777778,
              "#fb9f3a"
             ],
             [
              0.8888888888888888,
              "#fdca26"
             ],
             [
              1,
              "#f0f921"
             ]
            ],
            "type": "heatmap"
           }
          ],
          "heatmapgl": [
           {
            "colorbar": {
             "outlinewidth": 0,
             "ticks": ""
            },
            "colorscale": [
             [
              0,
              "#0d0887"
             ],
             [
              0.1111111111111111,
              "#46039f"
             ],
             [
              0.2222222222222222,
              "#7201a8"
             ],
             [
              0.3333333333333333,
              "#9c179e"
             ],
             [
              0.4444444444444444,
              "#bd3786"
             ],
             [
              0.5555555555555556,
              "#d8576b"
             ],
             [
              0.6666666666666666,
              "#ed7953"
             ],
             [
              0.7777777777777778,
              "#fb9f3a"
             ],
             [
              0.8888888888888888,
              "#fdca26"
             ],
             [
              1,
              "#f0f921"
             ]
            ],
            "type": "heatmapgl"
           }
          ],
          "histogram": [
           {
            "marker": {
             "pattern": {
              "fillmode": "overlay",
              "size": 10,
              "solidity": 0.2
             }
            },
            "type": "histogram"
           }
          ],
          "histogram2d": [
           {
            "colorbar": {
             "outlinewidth": 0,
             "ticks": ""
            },
            "colorscale": [
             [
              0,
              "#0d0887"
             ],
             [
              0.1111111111111111,
              "#46039f"
             ],
             [
              0.2222222222222222,
              "#7201a8"
             ],
             [
              0.3333333333333333,
              "#9c179e"
             ],
             [
              0.4444444444444444,
              "#bd3786"
             ],
             [
              0.5555555555555556,
              "#d8576b"
             ],
             [
              0.6666666666666666,
              "#ed7953"
             ],
             [
              0.7777777777777778,
              "#fb9f3a"
             ],
             [
              0.8888888888888888,
              "#fdca26"
             ],
             [
              1,
              "#f0f921"
             ]
            ],
            "type": "histogram2d"
           }
          ],
          "histogram2dcontour": [
           {
            "colorbar": {
             "outlinewidth": 0,
             "ticks": ""
            },
            "colorscale": [
             [
              0,
              "#0d0887"
             ],
             [
              0.1111111111111111,
              "#46039f"
             ],
             [
              0.2222222222222222,
              "#7201a8"
             ],
             [
              0.3333333333333333,
              "#9c179e"
             ],
             [
              0.4444444444444444,
              "#bd3786"
             ],
             [
              0.5555555555555556,
              "#d8576b"
             ],
             [
              0.6666666666666666,
              "#ed7953"
             ],
             [
              0.7777777777777778,
              "#fb9f3a"
             ],
             [
              0.8888888888888888,
              "#fdca26"
             ],
             [
              1,
              "#f0f921"
             ]
            ],
            "type": "histogram2dcontour"
           }
          ],
          "mesh3d": [
           {
            "colorbar": {
             "outlinewidth": 0,
             "ticks": ""
            },
            "type": "mesh3d"
           }
          ],
          "parcoords": [
           {
            "line": {
             "colorbar": {
              "outlinewidth": 0,
              "ticks": ""
             }
            },
            "type": "parcoords"
           }
          ],
          "pie": [
           {
            "automargin": true,
            "type": "pie"
           }
          ],
          "scatter": [
           {
            "marker": {
             "colorbar": {
              "outlinewidth": 0,
              "ticks": ""
             }
            },
            "type": "scatter"
           }
          ],
          "scatter3d": [
           {
            "line": {
             "colorbar": {
              "outlinewidth": 0,
              "ticks": ""
             }
            },
            "marker": {
             "colorbar": {
              "outlinewidth": 0,
              "ticks": ""
             }
            },
            "type": "scatter3d"
           }
          ],
          "scattercarpet": [
           {
            "marker": {
             "colorbar": {
              "outlinewidth": 0,
              "ticks": ""
             }
            },
            "type": "scattercarpet"
           }
          ],
          "scattergeo": [
           {
            "marker": {
             "colorbar": {
              "outlinewidth": 0,
              "ticks": ""
             }
            },
            "type": "scattergeo"
           }
          ],
          "scattergl": [
           {
            "marker": {
             "colorbar": {
              "outlinewidth": 0,
              "ticks": ""
             }
            },
            "type": "scattergl"
           }
          ],
          "scattermapbox": [
           {
            "marker": {
             "colorbar": {
              "outlinewidth": 0,
              "ticks": ""
             }
            },
            "type": "scattermapbox"
           }
          ],
          "scatterpolar": [
           {
            "marker": {
             "colorbar": {
              "outlinewidth": 0,
              "ticks": ""
             }
            },
            "type": "scatterpolar"
           }
          ],
          "scatterpolargl": [
           {
            "marker": {
             "colorbar": {
              "outlinewidth": 0,
              "ticks": ""
             }
            },
            "type": "scatterpolargl"
           }
          ],
          "scatterternary": [
           {
            "marker": {
             "colorbar": {
              "outlinewidth": 0,
              "ticks": ""
             }
            },
            "type": "scatterternary"
           }
          ],
          "surface": [
           {
            "colorbar": {
             "outlinewidth": 0,
             "ticks": ""
            },
            "colorscale": [
             [
              0,
              "#0d0887"
             ],
             [
              0.1111111111111111,
              "#46039f"
             ],
             [
              0.2222222222222222,
              "#7201a8"
             ],
             [
              0.3333333333333333,
              "#9c179e"
             ],
             [
              0.4444444444444444,
              "#bd3786"
             ],
             [
              0.5555555555555556,
              "#d8576b"
             ],
             [
              0.6666666666666666,
              "#ed7953"
             ],
             [
              0.7777777777777778,
              "#fb9f3a"
             ],
             [
              0.8888888888888888,
              "#fdca26"
             ],
             [
              1,
              "#f0f921"
             ]
            ],
            "type": "surface"
           }
          ],
          "table": [
           {
            "cells": {
             "fill": {
              "color": "#EBF0F8"
             },
             "line": {
              "color": "white"
             }
            },
            "header": {
             "fill": {
              "color": "#C8D4E3"
             },
             "line": {
              "color": "white"
             }
            },
            "type": "table"
           }
          ]
         },
         "layout": {
          "annotationdefaults": {
           "arrowcolor": "#2a3f5f",
           "arrowhead": 0,
           "arrowwidth": 1
          },
          "autotypenumbers": "strict",
          "coloraxis": {
           "colorbar": {
            "outlinewidth": 0,
            "ticks": ""
           }
          },
          "colorscale": {
           "diverging": [
            [
             0,
             "#8e0152"
            ],
            [
             0.1,
             "#c51b7d"
            ],
            [
             0.2,
             "#de77ae"
            ],
            [
             0.3,
             "#f1b6da"
            ],
            [
             0.4,
             "#fde0ef"
            ],
            [
             0.5,
             "#f7f7f7"
            ],
            [
             0.6,
             "#e6f5d0"
            ],
            [
             0.7,
             "#b8e186"
            ],
            [
             0.8,
             "#7fbc41"
            ],
            [
             0.9,
             "#4d9221"
            ],
            [
             1,
             "#276419"
            ]
           ],
           "sequential": [
            [
             0,
             "#0d0887"
            ],
            [
             0.1111111111111111,
             "#46039f"
            ],
            [
             0.2222222222222222,
             "#7201a8"
            ],
            [
             0.3333333333333333,
             "#9c179e"
            ],
            [
             0.4444444444444444,
             "#bd3786"
            ],
            [
             0.5555555555555556,
             "#d8576b"
            ],
            [
             0.6666666666666666,
             "#ed7953"
            ],
            [
             0.7777777777777778,
             "#fb9f3a"
            ],
            [
             0.8888888888888888,
             "#fdca26"
            ],
            [
             1,
             "#f0f921"
            ]
           ],
           "sequentialminus": [
            [
             0,
             "#0d0887"
            ],
            [
             0.1111111111111111,
             "#46039f"
            ],
            [
             0.2222222222222222,
             "#7201a8"
            ],
            [
             0.3333333333333333,
             "#9c179e"
            ],
            [
             0.4444444444444444,
             "#bd3786"
            ],
            [
             0.5555555555555556,
             "#d8576b"
            ],
            [
             0.6666666666666666,
             "#ed7953"
            ],
            [
             0.7777777777777778,
             "#fb9f3a"
            ],
            [
             0.8888888888888888,
             "#fdca26"
            ],
            [
             1,
             "#f0f921"
            ]
           ]
          },
          "colorway": [
           "#636efa",
           "#EF553B",
           "#00cc96",
           "#ab63fa",
           "#FFA15A",
           "#19d3f3",
           "#FF6692",
           "#B6E880",
           "#FF97FF",
           "#FECB52"
          ],
          "font": {
           "color": "#2a3f5f"
          },
          "geo": {
           "bgcolor": "white",
           "lakecolor": "white",
           "landcolor": "#E5ECF6",
           "showlakes": true,
           "showland": true,
           "subunitcolor": "white"
          },
          "hoverlabel": {
           "align": "left"
          },
          "hovermode": "closest",
          "mapbox": {
           "style": "light"
          },
          "paper_bgcolor": "white",
          "plot_bgcolor": "#E5ECF6",
          "polar": {
           "angularaxis": {
            "gridcolor": "white",
            "linecolor": "white",
            "ticks": ""
           },
           "bgcolor": "#E5ECF6",
           "radialaxis": {
            "gridcolor": "white",
            "linecolor": "white",
            "ticks": ""
           }
          },
          "scene": {
           "xaxis": {
            "backgroundcolor": "#E5ECF6",
            "gridcolor": "white",
            "gridwidth": 2,
            "linecolor": "white",
            "showbackground": true,
            "ticks": "",
            "zerolinecolor": "white"
           },
           "yaxis": {
            "backgroundcolor": "#E5ECF6",
            "gridcolor": "white",
            "gridwidth": 2,
            "linecolor": "white",
            "showbackground": true,
            "ticks": "",
            "zerolinecolor": "white"
           },
           "zaxis": {
            "backgroundcolor": "#E5ECF6",
            "gridcolor": "white",
            "gridwidth": 2,
            "linecolor": "white",
            "showbackground": true,
            "ticks": "",
            "zerolinecolor": "white"
           }
          },
          "shapedefaults": {
           "line": {
            "color": "#2a3f5f"
           }
          },
          "ternary": {
           "aaxis": {
            "gridcolor": "white",
            "linecolor": "white",
            "ticks": ""
           },
           "baxis": {
            "gridcolor": "white",
            "linecolor": "white",
            "ticks": ""
           },
           "bgcolor": "#E5ECF6",
           "caxis": {
            "gridcolor": "white",
            "linecolor": "white",
            "ticks": ""
           }
          },
          "title": {
           "x": 0.05
          },
          "xaxis": {
           "automargin": true,
           "gridcolor": "white",
           "linecolor": "white",
           "ticks": "",
           "title": {
            "standoff": 15
           },
           "zerolinecolor": "white",
           "zerolinewidth": 2
          },
          "yaxis": {
           "automargin": true,
           "gridcolor": "white",
           "linecolor": "white",
           "ticks": "",
           "title": {
            "standoff": 15
           },
           "zerolinecolor": "white",
           "zerolinewidth": 2
          }
         }
        }
       }
      }
     },
     "metadata": {},
     "output_type": "display_data"
    }
   ],
   "source": [
    "import plotly.graph_objects as go \n",
    "\n",
    "fig = go.Figure(data=[\n",
    "    go.Bar(name=\"corr\", x=results.year, y=results.correlation,text=\"correlation\", textposition=\"auto\", textangle=40),\n",
    "    go.Bar(name=\"inaccuracy\", x=results.year, y=results.ratio_innacurate, text=\"% inaccurate\", textposition=\"auto\", textangle=40)\n",
    "])\n",
    "\n",
    "fig.update_layout(barmode=\"group\")\n",
    "fig.show()"
   ]
  },
  {
   "cell_type": "code",
   "execution_count": 13,
   "metadata": {},
   "outputs": [],
   "source": [
    "from baseline import winter_dates\n",
    "\n",
    "windates = winter_dates(as_datetime=True)\n",
    "#df[(df[\"TIME\"] >= windates[0][0]) & (df[\"TIME\"] <= windates[0][1])].head(3)"
   ]
  },
  {
   "cell_type": "code",
   "execution_count": 15,
   "metadata": {},
   "outputs": [
    {
     "data": {
      "text/html": [
       "<div>\n",
       "<style scoped>\n",
       "    .dataframe tbody tr th:only-of-type {\n",
       "        vertical-align: middle;\n",
       "    }\n",
       "\n",
       "    .dataframe tbody tr th {\n",
       "        vertical-align: top;\n",
       "    }\n",
       "\n",
       "    .dataframe thead th {\n",
       "        text-align: right;\n",
       "    }\n",
       "</style>\n",
       "<table border=\"1\" class=\"dataframe\">\n",
       "  <thead>\n",
       "    <tr style=\"text-align: right;\">\n",
       "      <th></th>\n",
       "      <th>TIME</th>\n",
       "      <th>STUWVAK</th>\n",
       "      <th>VERSCHIL</th>\n",
       "      <th>Q</th>\n",
       "      <th>YEAR</th>\n",
       "      <th>MONTH</th>\n",
       "    </tr>\n",
       "  </thead>\n",
       "  <tbody>\n",
       "    <tr>\n",
       "      <th>0</th>\n",
       "      <td>2018-01-02 00:00:00+00:00</td>\n",
       "      <td>211C_211B</td>\n",
       "      <td>0.069323</td>\n",
       "      <td>4.385643</td>\n",
       "      <td>2018</td>\n",
       "      <td>1</td>\n",
       "    </tr>\n",
       "    <tr>\n",
       "      <th>1</th>\n",
       "      <td>2018-01-03 00:00:00+00:00</td>\n",
       "      <td>211C_211B</td>\n",
       "      <td>0.094958</td>\n",
       "      <td>6.412544</td>\n",
       "      <td>2018</td>\n",
       "      <td>1</td>\n",
       "    </tr>\n",
       "    <tr>\n",
       "      <th>2</th>\n",
       "      <td>2018-01-04 00:00:00+00:00</td>\n",
       "      <td>211C_211B</td>\n",
       "      <td>0.072458</td>\n",
       "      <td>4.837835</td>\n",
       "      <td>2018</td>\n",
       "      <td>1</td>\n",
       "    </tr>\n",
       "    <tr>\n",
       "      <th>3</th>\n",
       "      <td>2018-01-05 00:00:00+00:00</td>\n",
       "      <td>211C_211B</td>\n",
       "      <td>0.072646</td>\n",
       "      <td>2.657719</td>\n",
       "      <td>2018</td>\n",
       "      <td>1</td>\n",
       "    </tr>\n",
       "    <tr>\n",
       "      <th>4</th>\n",
       "      <td>2018-01-06 00:00:00+00:00</td>\n",
       "      <td>211C_211B</td>\n",
       "      <td>0.065156</td>\n",
       "      <td>2.268533</td>\n",
       "      <td>2018</td>\n",
       "      <td>1</td>\n",
       "    </tr>\n",
       "    <tr>\n",
       "      <th>...</th>\n",
       "      <td>...</td>\n",
       "      <td>...</td>\n",
       "      <td>...</td>\n",
       "      <td>...</td>\n",
       "      <td>...</td>\n",
       "      <td>...</td>\n",
       "    </tr>\n",
       "    <tr>\n",
       "      <th>1287</th>\n",
       "      <td>2021-07-12 00:00:00+00:00</td>\n",
       "      <td>211C_211B</td>\n",
       "      <td>-0.000740</td>\n",
       "      <td>0.213985</td>\n",
       "      <td>2021</td>\n",
       "      <td>7</td>\n",
       "    </tr>\n",
       "    <tr>\n",
       "      <th>1288</th>\n",
       "      <td>2021-07-13 00:00:00+00:00</td>\n",
       "      <td>211C_211B</td>\n",
       "      <td>0.003635</td>\n",
       "      <td>0.403506</td>\n",
       "      <td>2021</td>\n",
       "      <td>7</td>\n",
       "    </tr>\n",
       "    <tr>\n",
       "      <th>1289</th>\n",
       "      <td>2021-07-14 00:00:00+00:00</td>\n",
       "      <td>211C_211B</td>\n",
       "      <td>0.005844</td>\n",
       "      <td>0.409719</td>\n",
       "      <td>2021</td>\n",
       "      <td>7</td>\n",
       "    </tr>\n",
       "    <tr>\n",
       "      <th>1290</th>\n",
       "      <td>2021-07-15 00:00:00+00:00</td>\n",
       "      <td>211C_211B</td>\n",
       "      <td>0.016312</td>\n",
       "      <td>2.577480</td>\n",
       "      <td>2021</td>\n",
       "      <td>7</td>\n",
       "    </tr>\n",
       "    <tr>\n",
       "      <th>1291</th>\n",
       "      <td>2021-07-16 00:00:00+00:00</td>\n",
       "      <td>211C_211B</td>\n",
       "      <td>-0.024313</td>\n",
       "      <td>4.315400</td>\n",
       "      <td>2021</td>\n",
       "      <td>7</td>\n",
       "    </tr>\n",
       "  </tbody>\n",
       "</table>\n",
       "<p>1292 rows × 6 columns</p>\n",
       "</div>"
      ],
      "text/plain": [
       "                          TIME    STUWVAK  VERSCHIL         Q  YEAR  MONTH\n",
       "0    2018-01-02 00:00:00+00:00  211C_211B  0.069323  4.385643  2018      1\n",
       "1    2018-01-03 00:00:00+00:00  211C_211B  0.094958  6.412544  2018      1\n",
       "2    2018-01-04 00:00:00+00:00  211C_211B  0.072458  4.837835  2018      1\n",
       "3    2018-01-05 00:00:00+00:00  211C_211B  0.072646  2.657719  2018      1\n",
       "4    2018-01-06 00:00:00+00:00  211C_211B  0.065156  2.268533  2018      1\n",
       "...                        ...        ...       ...       ...   ...    ...\n",
       "1287 2021-07-12 00:00:00+00:00  211C_211B -0.000740  0.213985  2021      7\n",
       "1288 2021-07-13 00:00:00+00:00  211C_211B  0.003635  0.403506  2021      7\n",
       "1289 2021-07-14 00:00:00+00:00  211C_211B  0.005844  0.409719  2021      7\n",
       "1290 2021-07-15 00:00:00+00:00  211C_211B  0.016312  2.577480  2021      7\n",
       "1291 2021-07-16 00:00:00+00:00  211C_211B -0.024313  4.315400  2021      7\n",
       "\n",
       "[1292 rows x 6 columns]"
      ]
     },
     "execution_count": 15,
     "metadata": {},
     "output_type": "execute_result"
    }
   ],
   "source": [
    "df"
   ]
  },
  {
   "cell_type": "code",
   "execution_count": 17,
   "metadata": {},
   "outputs": [
    {
     "data": {
      "text/html": [
       "<div>\n",
       "<style scoped>\n",
       "    .dataframe tbody tr th:only-of-type {\n",
       "        vertical-align: middle;\n",
       "    }\n",
       "\n",
       "    .dataframe tbody tr th {\n",
       "        vertical-align: top;\n",
       "    }\n",
       "\n",
       "    .dataframe thead th {\n",
       "        text-align: right;\n",
       "    }\n",
       "</style>\n",
       "<table border=\"1\" class=\"dataframe\">\n",
       "  <thead>\n",
       "    <tr style=\"text-align: right;\">\n",
       "      <th></th>\n",
       "      <th>TIME</th>\n",
       "      <th>STUWVAK</th>\n",
       "      <th>VERSCHIL</th>\n",
       "      <th>Q</th>\n",
       "      <th>YEAR</th>\n",
       "      <th>MONTH</th>\n",
       "      <th>WINTER</th>\n",
       "    </tr>\n",
       "  </thead>\n",
       "  <tbody>\n",
       "    <tr>\n",
       "      <th>0</th>\n",
       "      <td>2018-01-02 00:00:00+00:00</td>\n",
       "      <td>211C_211B</td>\n",
       "      <td>0.069323</td>\n",
       "      <td>4.385643</td>\n",
       "      <td>2018</td>\n",
       "      <td>1</td>\n",
       "      <td>2018</td>\n",
       "    </tr>\n",
       "    <tr>\n",
       "      <th>1</th>\n",
       "      <td>2018-01-03 00:00:00+00:00</td>\n",
       "      <td>211C_211B</td>\n",
       "      <td>0.094958</td>\n",
       "      <td>6.412544</td>\n",
       "      <td>2018</td>\n",
       "      <td>1</td>\n",
       "      <td>2018</td>\n",
       "    </tr>\n",
       "    <tr>\n",
       "      <th>2</th>\n",
       "      <td>2018-01-04 00:00:00+00:00</td>\n",
       "      <td>211C_211B</td>\n",
       "      <td>0.072458</td>\n",
       "      <td>4.837835</td>\n",
       "      <td>2018</td>\n",
       "      <td>1</td>\n",
       "      <td>2018</td>\n",
       "    </tr>\n",
       "    <tr>\n",
       "      <th>3</th>\n",
       "      <td>2018-01-05 00:00:00+00:00</td>\n",
       "      <td>211C_211B</td>\n",
       "      <td>0.072646</td>\n",
       "      <td>2.657719</td>\n",
       "      <td>2018</td>\n",
       "      <td>1</td>\n",
       "      <td>2018</td>\n",
       "    </tr>\n",
       "    <tr>\n",
       "      <th>4</th>\n",
       "      <td>2018-01-06 00:00:00+00:00</td>\n",
       "      <td>211C_211B</td>\n",
       "      <td>0.065156</td>\n",
       "      <td>2.268533</td>\n",
       "      <td>2018</td>\n",
       "      <td>1</td>\n",
       "      <td>2018</td>\n",
       "    </tr>\n",
       "    <tr>\n",
       "      <th>...</th>\n",
       "      <td>...</td>\n",
       "      <td>...</td>\n",
       "      <td>...</td>\n",
       "      <td>...</td>\n",
       "      <td>...</td>\n",
       "      <td>...</td>\n",
       "      <td>...</td>\n",
       "    </tr>\n",
       "    <tr>\n",
       "      <th>1287</th>\n",
       "      <td>2021-07-12 00:00:00+00:00</td>\n",
       "      <td>211C_211B</td>\n",
       "      <td>-0.000740</td>\n",
       "      <td>0.213985</td>\n",
       "      <td>2021</td>\n",
       "      <td>7</td>\n",
       "      <td>2022</td>\n",
       "    </tr>\n",
       "    <tr>\n",
       "      <th>1288</th>\n",
       "      <td>2021-07-13 00:00:00+00:00</td>\n",
       "      <td>211C_211B</td>\n",
       "      <td>0.003635</td>\n",
       "      <td>0.403506</td>\n",
       "      <td>2021</td>\n",
       "      <td>7</td>\n",
       "      <td>2022</td>\n",
       "    </tr>\n",
       "    <tr>\n",
       "      <th>1289</th>\n",
       "      <td>2021-07-14 00:00:00+00:00</td>\n",
       "      <td>211C_211B</td>\n",
       "      <td>0.005844</td>\n",
       "      <td>0.409719</td>\n",
       "      <td>2021</td>\n",
       "      <td>7</td>\n",
       "      <td>2022</td>\n",
       "    </tr>\n",
       "    <tr>\n",
       "      <th>1290</th>\n",
       "      <td>2021-07-15 00:00:00+00:00</td>\n",
       "      <td>211C_211B</td>\n",
       "      <td>0.016312</td>\n",
       "      <td>2.577480</td>\n",
       "      <td>2021</td>\n",
       "      <td>7</td>\n",
       "      <td>2022</td>\n",
       "    </tr>\n",
       "    <tr>\n",
       "      <th>1291</th>\n",
       "      <td>2021-07-16 00:00:00+00:00</td>\n",
       "      <td>211C_211B</td>\n",
       "      <td>-0.024313</td>\n",
       "      <td>4.315400</td>\n",
       "      <td>2021</td>\n",
       "      <td>7</td>\n",
       "      <td>2022</td>\n",
       "    </tr>\n",
       "  </tbody>\n",
       "</table>\n",
       "<p>1292 rows × 7 columns</p>\n",
       "</div>"
      ],
      "text/plain": [
       "                          TIME    STUWVAK  VERSCHIL         Q  YEAR  MONTH  \\\n",
       "0    2018-01-02 00:00:00+00:00  211C_211B  0.069323  4.385643  2018      1   \n",
       "1    2018-01-03 00:00:00+00:00  211C_211B  0.094958  6.412544  2018      1   \n",
       "2    2018-01-04 00:00:00+00:00  211C_211B  0.072458  4.837835  2018      1   \n",
       "3    2018-01-05 00:00:00+00:00  211C_211B  0.072646  2.657719  2018      1   \n",
       "4    2018-01-06 00:00:00+00:00  211C_211B  0.065156  2.268533  2018      1   \n",
       "...                        ...        ...       ...       ...   ...    ...   \n",
       "1287 2021-07-12 00:00:00+00:00  211C_211B -0.000740  0.213985  2021      7   \n",
       "1288 2021-07-13 00:00:00+00:00  211C_211B  0.003635  0.403506  2021      7   \n",
       "1289 2021-07-14 00:00:00+00:00  211C_211B  0.005844  0.409719  2021      7   \n",
       "1290 2021-07-15 00:00:00+00:00  211C_211B  0.016312  2.577480  2021      7   \n",
       "1291 2021-07-16 00:00:00+00:00  211C_211B -0.024313  4.315400  2021      7   \n",
       "\n",
       "      WINTER  \n",
       "0       2018  \n",
       "1       2018  \n",
       "2       2018  \n",
       "3       2018  \n",
       "4       2018  \n",
       "...      ...  \n",
       "1287    2022  \n",
       "1288    2022  \n",
       "1289    2022  \n",
       "1290    2022  \n",
       "1291    2022  \n",
       "\n",
       "[1292 rows x 7 columns]"
      ]
     },
     "execution_count": 17,
     "metadata": {},
     "output_type": "execute_result"
    }
   ],
   "source": [
    "df[\"WINTER\"] = df.apply(lambda x: x[\"YEAR\"] if x[\"MONTH\"] < 7 else x[\"YEAR\"]+1, axis=1)\n",
    "df"
   ]
  },
  {
   "cell_type": "markdown",
   "metadata": {},
   "source": [
    "# Garbage code from the dashboard\n",
    "\n",
    "Code that may be put back, but now removed for more clarity"
   ]
  },
  {
   "cell_type": "code",
   "execution_count": null,
   "metadata": {},
   "outputs": [],
   "source": [
    "\n",
    "    st.markdown(\"Summary statistics of Leijgraaf stream\")\n",
    "\n",
    "    df_summary = get_summary_stats(True, True)\n",
    "    df_summary = df_summary[df_summary[\"type\"] != \"negative_values\"]\n",
    "    fig3 = px.violin(df_summary, x=\"type\", y=\"value\")\n",
    "    st.plotly_chart(fig3)"
   ]
  }
 ],
 "metadata": {
  "interpreter": {
   "hash": "1969922f716364d035a8b6915b11d031ed940091a524f57bb359725409d113bd"
  },
  "kernelspec": {
   "display_name": "Python 3.9.7 64-bit ('DC3': conda)",
   "name": "python3"
  },
  "language_info": {
   "codemirror_mode": {
    "name": "ipython",
    "version": 3
   },
   "file_extension": ".py",
   "mimetype": "text/x-python",
   "name": "python",
   "nbconvert_exporter": "python",
   "pygments_lexer": "ipython3",
   "version": "3.9.7"
  },
  "orig_nbformat": 4
 },
 "nbformat": 4,
 "nbformat_minor": 2
}
