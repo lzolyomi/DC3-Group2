{
 "cells": [
  {
   "cell_type": "code",
   "execution_count": 1,
   "source": [
    "import pandas as pd \n",
    "from file_struct import locate_data_, correct_slash\n",
    "from data_prep import winter_weather\n",
    "from waterway import list_stuwvak\n",
    "\n"
   ],
   "outputs": [
    {
     "output_type": "stream",
     "name": "stdout",
     "text": [
      "/Users/levente/Documents/Quartile 1/Data Challenge 3/DC3-Group2/data\n"
     ]
    }
   ],
   "metadata": {}
  },
  {
   "cell_type": "code",
   "execution_count": 2,
   "source": [
    "weather_data = pd.read_csv(locate_data_() + correct_slash() + \"full_weather.csv\")\n",
    "weather_data.tail()"
   ],
   "outputs": [
    {
     "output_type": "execute_result",
     "data": {
      "text/html": [
       "<div>\n",
       "<style scoped>\n",
       "    .dataframe tbody tr th:only-of-type {\n",
       "        vertical-align: middle;\n",
       "    }\n",
       "\n",
       "    .dataframe tbody tr th {\n",
       "        vertical-align: top;\n",
       "    }\n",
       "\n",
       "    .dataframe thead th {\n",
       "        text-align: right;\n",
       "    }\n",
       "</style>\n",
       "<table border=\"1\" class=\"dataframe\">\n",
       "  <thead>\n",
       "    <tr style=\"text-align: right;\">\n",
       "      <th></th>\n",
       "      <th>Unnamed: 0</th>\n",
       "      <th>Day</th>\n",
       "      <th>Min temp</th>\n",
       "      <th>Max temp</th>\n",
       "      <th>Avg temp</th>\n",
       "      <th>Wind speed</th>\n",
       "      <th>Precipitation</th>\n",
       "      <th>Date</th>\n",
       "    </tr>\n",
       "  </thead>\n",
       "  <tbody>\n",
       "    <tr>\n",
       "      <th>1298</th>\n",
       "      <td>1303</td>\n",
       "      <td>27</td>\n",
       "      <td>15.8</td>\n",
       "      <td>22.3</td>\n",
       "      <td>18.7</td>\n",
       "      <td>6.1</td>\n",
       "      <td>2.6</td>\n",
       "      <td>2021-07-27</td>\n",
       "    </tr>\n",
       "    <tr>\n",
       "      <th>1299</th>\n",
       "      <td>1304</td>\n",
       "      <td>28</td>\n",
       "      <td>14.4</td>\n",
       "      <td>22.1</td>\n",
       "      <td>17.9</td>\n",
       "      <td>10.6</td>\n",
       "      <td>3.2</td>\n",
       "      <td>2021-07-28</td>\n",
       "    </tr>\n",
       "    <tr>\n",
       "      <th>1300</th>\n",
       "      <td>1305</td>\n",
       "      <td>29</td>\n",
       "      <td>12.9</td>\n",
       "      <td>21.6</td>\n",
       "      <td>17.3</td>\n",
       "      <td>12.7</td>\n",
       "      <td>0.8</td>\n",
       "      <td>2021-07-29</td>\n",
       "    </tr>\n",
       "    <tr>\n",
       "      <th>1301</th>\n",
       "      <td>1306</td>\n",
       "      <td>30</td>\n",
       "      <td>10.3</td>\n",
       "      <td>23.9</td>\n",
       "      <td>17.1</td>\n",
       "      <td>8.2</td>\n",
       "      <td>0.8</td>\n",
       "      <td>2021-07-30</td>\n",
       "    </tr>\n",
       "    <tr>\n",
       "      <th>1302</th>\n",
       "      <td>1307</td>\n",
       "      <td>31</td>\n",
       "      <td>13.4</td>\n",
       "      <td>21.1</td>\n",
       "      <td>17.1</td>\n",
       "      <td>12.9</td>\n",
       "      <td>3.0</td>\n",
       "      <td>2021-07-31</td>\n",
       "    </tr>\n",
       "  </tbody>\n",
       "</table>\n",
       "</div>"
      ],
      "text/plain": [
       "      Unnamed: 0  Day  Min temp  Max temp  Avg temp  Wind speed  \\\n",
       "1298        1303   27      15.8      22.3      18.7         6.1   \n",
       "1299        1304   28      14.4      22.1      17.9        10.6   \n",
       "1300        1305   29      12.9      21.6      17.3        12.7   \n",
       "1301        1306   30      10.3      23.9      17.1         8.2   \n",
       "1302        1307   31      13.4      21.1      17.1        12.9   \n",
       "\n",
       "      Precipitation        Date  \n",
       "1298            2.6  2021-07-27  \n",
       "1299            3.2  2021-07-28  \n",
       "1300            0.8  2021-07-29  \n",
       "1301            0.8  2021-07-30  \n",
       "1302            3.0  2021-07-31  "
      ]
     },
     "metadata": {},
     "execution_count": 2
    }
   ],
   "metadata": {}
  },
  {
   "cell_type": "code",
   "execution_count": 3,
   "source": [
    "weather = winter_weather(locate_data_() + correct_slash())\n",
    "weather[\"TIME\"] = pd.to_datetime(weather[\"Date\"])\n",
    "weather.drop(columns=[\"month\", \"Date\"], inplace = True)"
   ],
   "outputs": [],
   "metadata": {}
  },
  {
   "cell_type": "code",
   "execution_count": 4,
   "source": [
    "lst_compartments = list_stuwvak('Leijgraaf')\n",
    "df = pd.read_csv(locate_data_() + correct_slash() + \"feature_tables\" + correct_slash() + lst_compartments[0] + \"_feature_table.csv\")\n",
    "df[\"TIME\"] = pd.to_datetime(pd.to_datetime(df[\"TIME\"]).dt.date)\n",
    "ready_data = pd.merge(weather, df, on=\"TIME\")\n",
    "ready_data.drop(columns=[\"Unnamed: 0\", \"Day\", \"STUWVAK\"], inplace=True)"
   ],
   "outputs": [],
   "metadata": {}
  },
  {
   "cell_type": "code",
   "execution_count": 6,
   "source": [
    "from baseline import get_winter_data\n",
    "\n",
    "test = get_winter_data(lst_compartments[1])\n",
    "test.head(3)"
   ],
   "outputs": [
    {
     "output_type": "execute_result",
     "data": {
      "text/html": [
       "<div>\n",
       "<style scoped>\n",
       "    .dataframe tbody tr th:only-of-type {\n",
       "        vertical-align: middle;\n",
       "    }\n",
       "\n",
       "    .dataframe tbody tr th {\n",
       "        vertical-align: top;\n",
       "    }\n",
       "\n",
       "    .dataframe thead th {\n",
       "        text-align: right;\n",
       "    }\n",
       "</style>\n",
       "<table border=\"1\" class=\"dataframe\">\n",
       "  <thead>\n",
       "    <tr style=\"text-align: right;\">\n",
       "      <th></th>\n",
       "      <th>Min temp</th>\n",
       "      <th>Max temp</th>\n",
       "      <th>Avg temp</th>\n",
       "      <th>Wind speed</th>\n",
       "      <th>Precipitation</th>\n",
       "      <th>TIME</th>\n",
       "      <th>VERSCHIL</th>\n",
       "      <th>Q</th>\n",
       "    </tr>\n",
       "  </thead>\n",
       "  <tbody>\n",
       "    <tr>\n",
       "      <th>0</th>\n",
       "      <td>4.9</td>\n",
       "      <td>9.0</td>\n",
       "      <td>6.8</td>\n",
       "      <td>15.4</td>\n",
       "      <td>11.8</td>\n",
       "      <td>2018-01-01</td>\n",
       "      <td>0.0</td>\n",
       "      <td>0.646808</td>\n",
       "    </tr>\n",
       "    <tr>\n",
       "      <th>1</th>\n",
       "      <td>4.6</td>\n",
       "      <td>8.2</td>\n",
       "      <td>6.2</td>\n",
       "      <td>12.2</td>\n",
       "      <td>4.4</td>\n",
       "      <td>2018-01-02</td>\n",
       "      <td>0.0</td>\n",
       "      <td>0.725779</td>\n",
       "    </tr>\n",
       "    <tr>\n",
       "      <th>2</th>\n",
       "      <td>6.4</td>\n",
       "      <td>11.2</td>\n",
       "      <td>8.9</td>\n",
       "      <td>26.7</td>\n",
       "      <td>16.6</td>\n",
       "      <td>2018-01-03</td>\n",
       "      <td>0.0</td>\n",
       "      <td>1.014376</td>\n",
       "    </tr>\n",
       "  </tbody>\n",
       "</table>\n",
       "</div>"
      ],
      "text/plain": [
       "   Min temp  Max temp  Avg temp  Wind speed  Precipitation       TIME  \\\n",
       "0       4.9       9.0       6.8        15.4           11.8 2018-01-01   \n",
       "1       4.6       8.2       6.2        12.2            4.4 2018-01-02   \n",
       "2       6.4      11.2       8.9        26.7           16.6 2018-01-03   \n",
       "\n",
       "   VERSCHIL         Q  \n",
       "0       0.0  0.646808  \n",
       "1       0.0  0.725779  \n",
       "2       0.0  1.014376  "
      ]
     },
     "metadata": {},
     "execution_count": 6
    }
   ],
   "metadata": {}
  },
  {
   "cell_type": "code",
   "execution_count": 7,
   "source": [
    "from sklearn.linear_model import LinearRegression\n",
    "\n",
    "linreg = LinearRegression()\n",
    "linreg.fit(X=test[[\"Avg temp\", \"Precipitation\"]], y=test[[\"VERSCHIL\"]])\n",
    "linreg.coef_"
   ],
   "outputs": [
    {
     "output_type": "execute_result",
     "data": {
      "text/plain": [
       "array([[ 0.00667489, -0.00166871]])"
      ]
     },
     "metadata": {},
     "execution_count": 7
    }
   ],
   "metadata": {}
  }
 ],
 "metadata": {
  "orig_nbformat": 4,
  "language_info": {
   "name": "python",
   "version": "3.9.7",
   "mimetype": "text/x-python",
   "codemirror_mode": {
    "name": "ipython",
    "version": 3
   },
   "pygments_lexer": "ipython3",
   "nbconvert_exporter": "python",
   "file_extension": ".py"
  },
  "kernelspec": {
   "name": "python3",
   "display_name": "Python 3.9.7 64-bit ('DC3': conda)"
  },
  "interpreter": {
   "hash": "b64ff213fb53ad40d668992eba7a32ad0dafe4ca13956c3063436eb9ca1f4d28"
  }
 },
 "nbformat": 4,
 "nbformat_minor": 2
}