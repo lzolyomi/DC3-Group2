{
 "cells": [
  {
   "cell_type": "code",
   "execution_count": 3,
   "metadata": {
    "pycharm": {
     "is_executing": false
    }
   },
   "outputs": [],
   "source": [
    "import pandas as pd"
   ]
  },
  {
   "cell_type": "code",
   "execution_count": 4,
   "metadata": {
    "pycharm": {
     "name": "#%%\n"
    }
   },
   "outputs": [
    {
     "data": {
      "text/html": [
       "<div>\n",
       "<style scoped>\n",
       "    .dataframe tbody tr th:only-of-type {\n",
       "        vertical-align: middle;\n",
       "    }\n",
       "\n",
       "    .dataframe tbody tr th {\n",
       "        vertical-align: top;\n",
       "    }\n",
       "\n",
       "    .dataframe thead th {\n",
       "        text-align: right;\n",
       "    }\n",
       "</style>\n",
       "<table border=\"1\" class=\"dataframe\">\n",
       "  <thead>\n",
       "    <tr style=\"text-align: right;\">\n",
       "      <th></th>\n",
       "      <th>ORDER</th>\n",
       "      <th>WATERLOOP</th>\n",
       "      <th>STUWVAK</th>\n",
       "      <th>MIN_STUW</th>\n",
       "      <th>MAX_STUW</th>\n",
       "      <th>BOVEN_STUW</th>\n",
       "      <th>BENEDEN_STUW</th>\n",
       "    </tr>\n",
       "  </thead>\n",
       "  <tbody>\n",
       "    <tr>\n",
       "      <th>0</th>\n",
       "      <td>1</td>\n",
       "      <td>Leijgraaf</td>\n",
       "      <td>211B_211A</td>\n",
       "      <td>211A</td>\n",
       "      <td>211B</td>\n",
       "      <td>211B</td>\n",
       "      <td>211A</td>\n",
       "    </tr>\n",
       "    <tr>\n",
       "      <th>1</th>\n",
       "      <td>2</td>\n",
       "      <td>Leijgraaf</td>\n",
       "      <td>211C_211B</td>\n",
       "      <td>211B</td>\n",
       "      <td>211C</td>\n",
       "      <td>211C</td>\n",
       "      <td>211B</td>\n",
       "    </tr>\n",
       "    <tr>\n",
       "      <th>2</th>\n",
       "      <td>3</td>\n",
       "      <td>Leijgraaf</td>\n",
       "      <td>211D_211C</td>\n",
       "      <td>211C</td>\n",
       "      <td>211D</td>\n",
       "      <td>211D</td>\n",
       "      <td>211C</td>\n",
       "    </tr>\n",
       "    <tr>\n",
       "      <th>3</th>\n",
       "      <td>4</td>\n",
       "      <td>Leijgraaf</td>\n",
       "      <td>211E_211D</td>\n",
       "      <td>211D</td>\n",
       "      <td>211E</td>\n",
       "      <td>211E</td>\n",
       "      <td>211D</td>\n",
       "    </tr>\n",
       "    <tr>\n",
       "      <th>4</th>\n",
       "      <td>5</td>\n",
       "      <td>Leijgraaf</td>\n",
       "      <td>211F_211E</td>\n",
       "      <td>211E</td>\n",
       "      <td>211F</td>\n",
       "      <td>211F</td>\n",
       "      <td>211E</td>\n",
       "    </tr>\n",
       "    <tr>\n",
       "      <th>5</th>\n",
       "      <td>6</td>\n",
       "      <td>Leijgraaf</td>\n",
       "      <td>211G_211F</td>\n",
       "      <td>211F</td>\n",
       "      <td>211G</td>\n",
       "      <td>211G</td>\n",
       "      <td>211F</td>\n",
       "    </tr>\n",
       "    <tr>\n",
       "      <th>6</th>\n",
       "      <td>7</td>\n",
       "      <td>Leijgraaf</td>\n",
       "      <td>211H_211G</td>\n",
       "      <td>211G</td>\n",
       "      <td>211H</td>\n",
       "      <td>211H</td>\n",
       "      <td>211G</td>\n",
       "    </tr>\n",
       "    <tr>\n",
       "      <th>7</th>\n",
       "      <td>8</td>\n",
       "      <td>Leijgraaf</td>\n",
       "      <td>211I_211H</td>\n",
       "      <td>211H</td>\n",
       "      <td>211I</td>\n",
       "      <td>211I</td>\n",
       "      <td>211H</td>\n",
       "    </tr>\n",
       "    <tr>\n",
       "      <th>8</th>\n",
       "      <td>9</td>\n",
       "      <td>Leijgraaf</td>\n",
       "      <td>211J_211I</td>\n",
       "      <td>211I</td>\n",
       "      <td>211J</td>\n",
       "      <td>211J</td>\n",
       "      <td>211I</td>\n",
       "    </tr>\n",
       "    <tr>\n",
       "      <th>9</th>\n",
       "      <td>10</td>\n",
       "      <td>Leijgraaf</td>\n",
       "      <td>211K_211J</td>\n",
       "      <td>211J</td>\n",
       "      <td>211K</td>\n",
       "      <td>211K</td>\n",
       "      <td>211J</td>\n",
       "    </tr>\n",
       "  </tbody>\n",
       "</table>\n",
       "</div>"
      ],
      "text/plain": [
       "   ORDER  WATERLOOP    STUWVAK MIN_STUW MAX_STUW BOVEN_STUW BENEDEN_STUW\n",
       "0      1  Leijgraaf  211B_211A     211A     211B       211B         211A\n",
       "1      2  Leijgraaf  211C_211B     211B     211C       211C         211B\n",
       "2      3  Leijgraaf  211D_211C     211C     211D       211D         211C\n",
       "3      4  Leijgraaf  211E_211D     211D     211E       211E         211D\n",
       "4      5  Leijgraaf  211F_211E     211E     211F       211F         211E\n",
       "5      6  Leijgraaf  211G_211F     211F     211G       211G         211F\n",
       "6      7  Leijgraaf  211H_211G     211G     211H       211H         211G\n",
       "7      8  Leijgraaf  211I_211H     211H     211I       211I         211H\n",
       "8      9  Leijgraaf  211J_211I     211I     211J       211J         211I\n",
       "9     10  Leijgraaf  211K_211J     211J     211K       211K         211J"
      ]
     },
     "execution_count": 4,
     "metadata": {},
     "output_type": "execute_result"
    }
   ],
   "source": [
    "stuw_order = pd.read_csv(\"/Users/rshar/OneDrive - TU Eindhoven/jaar3/DC3/DC3-Group2/data/stuw_order.csv\")\n",
    "stuw_order.head(20)"
   ]
  },
  {
   "cell_type": "code",
   "execution_count": null,
   "metadata": {},
   "outputs": [],
   "source": []
  }
 ],
 "metadata": {
  "kernelspec": {
   "display_name": "Python 3 (ipykernel)",
   "language": "python",
   "name": "python3"
  },
  "language_info": {
   "codemirror_mode": {
    "name": "ipython",
    "version": 3
   },
   "file_extension": ".py",
   "mimetype": "text/x-python",
   "name": "python",
   "nbconvert_exporter": "python",
   "pygments_lexer": "ipython3",
   "version": "3.9.7"
  },
  "pycharm": {
   "stem_cell": {
    "cell_type": "raw",
    "source": [],
    "metadata": {
     "collapsed": false
    }
   }
  }
 },
 "nbformat": 4,
 "nbformat_minor": 1
}