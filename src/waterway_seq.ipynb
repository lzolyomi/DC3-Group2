{
 "cells": [
  {
   "cell_type": "code",
   "execution_count": 53,
   "metadata": {
    "pycharm": {
     "is_executing": false
    }
   },
   "outputs": [],
   "source": [
    "import pandas as pd"
   ]
  },
  {
   "cell_type": "code",
   "execution_count": 54,
   "metadata": {},
   "outputs": [],
   "source": [
    "# All waterways: Leijgraaf, Hertogswetering_, Raam, Strijpse Beek_, Osse Aanvoersloot, Peelse Loop_\n",
    "# SIDENOTE: the last 3 will give an error since the feature table of 1 or more compartments is not present\n",
    "\n",
    "def waterway_summary(waterway: str, path_to_stuw_order: str, path_to_ft_tables: str):\n",
    "    \"\"\"\n",
    "        input:\n",
    "        waterway: name of the waterway\n",
    "        path_to_stuw_order: path to the stuw_order.csv on your device .../data/stuw_order.csv\n",
    "        path_to_ft_tables: path to the feature tables on your device  .../feature_tables/\n",
    "        \n",
    "        output:\n",
    "        gives all the weir compartments of the waterway together with the mean discharge per weir compartment\n",
    "    \"\"\"\n",
    "    \n",
    "    stuw_order = pd.read_csv(path_to_stuw_order)\n",
    "    stuw_order.head()\n",
    "    \n",
    "    waterway_df = stuw_order.loc[stuw_order['WATERLOOP']==waterway].iloc[::-1]\n",
    "    waterway_df.reset_index(inplace=True)\n",
    "    waterway_df.drop(['index', 'ORDER'], axis=1)\n",
    "    \n",
    "    df = pd.DataFrame()\n",
    "    for x in waterway_df.iloc[:, 3]:\n",
    "\n",
    "        vak = pd.read_csv(path_to_ft_tables+f\"{x}_feature_table.csv\")\n",
    "        mean_weir = vak[['Q']].mean()\n",
    "        df = df.append({'STUWVAK': x, 'Mean discharge': mean_weir[0]}, ignore_index=True)\n",
    "        \n",
    "    return df\n",
    "    "
   ]
  },
  {
   "cell_type": "code",
   "execution_count": 67,
   "metadata": {},
   "outputs": [
    {
     "data": {
      "text/html": [
       "<div>\n",
       "<style scoped>\n",
       "    .dataframe tbody tr th:only-of-type {\n",
       "        vertical-align: middle;\n",
       "    }\n",
       "\n",
       "    .dataframe tbody tr th {\n",
       "        vertical-align: top;\n",
       "    }\n",
       "\n",
       "    .dataframe thead th {\n",
       "        text-align: right;\n",
       "    }\n",
       "</style>\n",
       "<table border=\"1\" class=\"dataframe\">\n",
       "  <thead>\n",
       "    <tr style=\"text-align: right;\">\n",
       "      <th></th>\n",
       "      <th>STUWVAK</th>\n",
       "      <th>Mean discharge</th>\n",
       "    </tr>\n",
       "  </thead>\n",
       "  <tbody>\n",
       "    <tr>\n",
       "      <th>0</th>\n",
       "      <td>211VEL_211N</td>\n",
       "      <td>0.555998</td>\n",
       "    </tr>\n",
       "    <tr>\n",
       "      <th>1</th>\n",
       "      <td>211N_211M</td>\n",
       "      <td>0.636628</td>\n",
       "    </tr>\n",
       "    <tr>\n",
       "      <th>2</th>\n",
       "      <td>211M_211L</td>\n",
       "      <td>2.556836</td>\n",
       "    </tr>\n",
       "    <tr>\n",
       "      <th>3</th>\n",
       "      <td>211L_211K</td>\n",
       "      <td>0.553873</td>\n",
       "    </tr>\n",
       "    <tr>\n",
       "      <th>4</th>\n",
       "      <td>211K_211J</td>\n",
       "      <td>0.893540</td>\n",
       "    </tr>\n",
       "    <tr>\n",
       "      <th>5</th>\n",
       "      <td>211J_211I</td>\n",
       "      <td>0.496124</td>\n",
       "    </tr>\n",
       "    <tr>\n",
       "      <th>6</th>\n",
       "      <td>211I_211H</td>\n",
       "      <td>0.992063</td>\n",
       "    </tr>\n",
       "    <tr>\n",
       "      <th>7</th>\n",
       "      <td>211H_211G</td>\n",
       "      <td>0.903305</td>\n",
       "    </tr>\n",
       "    <tr>\n",
       "      <th>8</th>\n",
       "      <td>211G_211F</td>\n",
       "      <td>0.508849</td>\n",
       "    </tr>\n",
       "    <tr>\n",
       "      <th>9</th>\n",
       "      <td>211F_211E</td>\n",
       "      <td>0.531705</td>\n",
       "    </tr>\n",
       "    <tr>\n",
       "      <th>10</th>\n",
       "      <td>211E_211D</td>\n",
       "      <td>0.606539</td>\n",
       "    </tr>\n",
       "    <tr>\n",
       "      <th>11</th>\n",
       "      <td>211D_211C</td>\n",
       "      <td>0.584362</td>\n",
       "    </tr>\n",
       "    <tr>\n",
       "      <th>12</th>\n",
       "      <td>211C_211B</td>\n",
       "      <td>0.530982</td>\n",
       "    </tr>\n",
       "    <tr>\n",
       "      <th>13</th>\n",
       "      <td>211B_211A</td>\n",
       "      <td>0.889587</td>\n",
       "    </tr>\n",
       "  </tbody>\n",
       "</table>\n",
       "</div>"
      ],
      "text/plain": [
       "        STUWVAK  Mean discharge\n",
       "0   211VEL_211N        0.555998\n",
       "1     211N_211M        0.636628\n",
       "2     211M_211L        2.556836\n",
       "3     211L_211K        0.553873\n",
       "4     211K_211J        0.893540\n",
       "5     211J_211I        0.496124\n",
       "6     211I_211H        0.992063\n",
       "7     211H_211G        0.903305\n",
       "8     211G_211F        0.508849\n",
       "9     211F_211E        0.531705\n",
       "10    211E_211D        0.606539\n",
       "11    211D_211C        0.584362\n",
       "12    211C_211B        0.530982\n",
       "13    211B_211A        0.889587"
      ]
     },
     "execution_count": 67,
     "metadata": {},
     "output_type": "execute_result"
    }
   ],
   "source": [
    "waterway_summary('Leijgraaf', \"/Users/Gebruiker/OneDrive - TU Eindhoven/jaar3/DC3/DC3-Group2/data/stuw_order.csv\", \"/Users/Gebruiker/OneDrive - TU Eindhoven/jaar3/DC3/DC3-Group2/data/feature_tables/\")"
   ]
  },
  {
   "cell_type": "code",
   "execution_count": null,
   "metadata": {},
   "outputs": [],
   "source": []
  }
 ],
 "metadata": {
  "kernelspec": {
   "display_name": "PyCharm (DC3-Group2)",
   "language": "python",
   "name": "pycharm-3547425b"
  },
  "language_info": {
   "codemirror_mode": {
    "name": "ipython",
    "version": 3
   },
   "file_extension": ".py",
   "mimetype": "text/x-python",
   "name": "python",
   "nbconvert_exporter": "python",
   "pygments_lexer": "ipython3",
   "version": "3.8.8"
  },
  "pycharm": {
   "stem_cell": {
    "cell_type": "raw",
    "metadata": {
     "collapsed": false
    },
    "source": []
   }
  }
 },
 "nbformat": 4,
 "nbformat_minor": 1
}
